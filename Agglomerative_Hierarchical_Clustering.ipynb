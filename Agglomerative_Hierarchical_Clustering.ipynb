{
  "nbformat": 4,
  "nbformat_minor": 0,
  "metadata": {
    "colab": {
      "name": "Agglomerative Hierarchical Clustering.ipynb",
      "provenance": [],
      "authorship_tag": "ABX9TyMEWg7Ij7CLoF/4Unv6gfeP"
    },
    "kernelspec": {
      "name": "python3",
      "display_name": "Python 3"
    }
  },
  "cells": [
    {
      "cell_type": "code",
      "metadata": {
        "id": "tA_4fWw5FuLi",
        "colab_type": "code",
        "colab": {}
      },
      "source": [
        "import numpy as np\n",
        "import pandas as pd\n",
        "from scipy import ndimage\n",
        "from scipy.cluster import hierarchy\n",
        "from scipy.spatial import distance_matrix\n",
        "from matplotlib import pyplot as plt\n",
        "from sklearn import manifold,datasets\n",
        "from sklearn.cluster import AgglomerativeClustering\n",
        "from sklearn.datasets.samples_generator import make_blobs"
      ],
      "execution_count": 8,
      "outputs": []
    },
    {
      "cell_type": "code",
      "metadata": {
        "id": "4WSvN4ArHYWw",
        "colab_type": "code",
        "colab": {}
      },
      "source": [
        "# generate random data\n",
        "x,y=make_blobs(50,centers=[[4,4], [-2, -1], [1, 1], [10,4]],cluster_std=0.9)"
      ],
      "execution_count": 9,
      "outputs": []
    },
    {
      "cell_type": "code",
      "metadata": {
        "id": "mgzaYMnBH7pF",
        "colab_type": "code",
        "colab": {
          "base_uri": "https://localhost:8080/",
          "height": 282
        },
        "outputId": "74e0ce8d-9920-4e88-8d67-4b4aca80b278"
      },
      "source": [
        "plt.scatter(x[:,0],x[:,1],marker='o')"
      ],
      "execution_count": 10,
      "outputs": [
        {
          "output_type": "execute_result",
          "data": {
            "text/plain": [
              "<matplotlib.collections.PathCollection at 0x7f542a3d76d8>"
            ]
          },
          "metadata": {
            "tags": []
          },
          "execution_count": 10
        },
        {
          "output_type": "display_data",
          "data": {
            "image/png": "[encoded data removed]",
            "text/plain": [
              "<Figure size 432x288 with 1 Axes>"
            ]
          },
          "metadata": {
            "tags": [],
            "needs_background": "light"
          }
        }
      ]
    },
    {
      "cell_type": "code",
      "metadata": {
        "id": "vYwJWiqNIIad",
        "colab_type": "code",
        "colab": {
          "base_uri": "https://localhost:8080/",
          "height": 68
        },
        "outputId": "a06b118a-a5d0-4270-b1b9-16db797f2c47"
      },
      "source": [
        "# create agglomerative clustering model\n",
        "aglom=AgglomerativeClustering(4,linkage='average')\n",
        "# fit the model\n",
        "aglom.fit(x,y)"
      ],
      "execution_count": 11,
      "outputs": [
        {
          "output_type": "execute_result",
          "data": {
            "text/plain": [
              "AgglomerativeClustering(affinity='euclidean', compute_full_tree='auto',\n",
              "                        connectivity=None, distance_threshold=None,\n",
              "                        linkage='average', memory=None, n_clusters=4)"
            ]
          },
          "metadata": {
            "tags": []
          },
          "execution_count": 11
        }
      ]
    },
    {
      "cell_type": "markdown",
      "metadata": {
        "id": "Nx85vEKxDt2K",
        "colab_type": "text"
      },
      "source": [
        "**DATA VISUALIZATION**"
      ]
    },
    {
      "cell_type": "code",
      "metadata": {
        "id": "OdmtQsQmJH-6",
        "colab_type": "code",
        "colab": {
          "base_uri": "https://localhost:8080/",
          "height": 252
        },
        "outputId": "8d116ab5-f269-446e-fec6-cd1827d64e32"
      },
      "source": [
        "# figure size\n",
        "plt.figure(figsize=(6,4))\n",
        "# These two lines of code are used to scale the data points down, Or else the data points will be scattered very far apart.\n",
        "xmin,xmax=np.min(x,axis=0),np.max(x,axis=0)\n",
        "x=(x-xmin)/(xmax-xmin)\n",
        "# to display data points\n",
        "for i in range(x.shape[0]):\n",
        "  # Replace the data points with their respective cluster value along with color\n",
        "  plt.text(x[i,0],x[i,1],str(y[i]),color=plt.cm.nipy_spectral(aglom.labels_[i]/10),fontdict={'weight':'bold','size':9})\n",
        "plt.xticks([])\n",
        "plt.yticks([])\n",
        "plt.scatter(x[:,0],x[:,1],marker='.')\n",
        "plt.show()"
      ],
      "execution_count": 12,
      "outputs": [
        {
          "output_type": "display_data",
          "data": {
            "image/png": "[encoded data removed]",
            "text/plain": [
              "<Figure size 432x288 with 1 Axes>"
            ]
          },
          "metadata": {
            "tags": []
          }
        }
      ]
    },
    {
      "cell_type": "markdown",
      "metadata": {
        "id": "PM5r69CeG3na",
        "colab_type": "text"
      },
      "source": [
        "**Dendrogram Associated for Agglomerative Hierarchical Clustering**"
      ]
    },
    {
      "cell_type": "code",
      "metadata": {
        "id": "axNUaM8VDL-x",
        "colab_type": "code",
        "colab": {
          "base_uri": "https://localhost:8080/",
          "height": 238
        },
        "outputId": "a764cc8b-9144-42a6-dd93-3e02ccc9f224"
      },
      "source": [
        "# distance matrix\n",
        "dist_matrix=distance_matrix(x,x)\n",
        "dist_matrix"
      ],
      "execution_count": 13,
      "outputs": [
        {
          "output_type": "execute_result",
          "data": {
            "text/plain": [
              "array([[0.        , 0.46147306, 0.48781183, ..., 0.61333153, 0.36020281,\n",
              "        0.66162335],\n",
              "       [0.46147306, 0.        , 0.0483448 , ..., 0.38771429, 0.137586  ,\n",
              "        0.38763252],\n",
              "       [0.48781183, 0.0483448 , 0.        , ..., 0.34598164, 0.14104791,\n",
              "        0.34213169],\n",
              "       ...,\n",
              "       [0.61333153, 0.38771429, 0.34598164, ..., 0.        , 0.33014869,\n",
              "        0.06729692],\n",
              "       [0.36020281, 0.137586  , 0.14104791, ..., 0.33014869, 0.        ,\n",
              "        0.35366367],\n",
              "       [0.66162335, 0.38763252, 0.34213169, ..., 0.06729692, 0.35366367,\n",
              "        0.        ]])"
            ]
          },
          "metadata": {
            "tags": []
          },
          "execution_count": 13
        }
      ]
    },
    {
      "cell_type": "code",
      "metadata": {
        "id": "a2S7IAXJJa5B",
        "colab_type": "code",
        "colab": {
          "base_uri": "https://localhost:8080/",
          "height": 71
        },
        "outputId": "490ad7bf-8d2b-4f54-8b80-06fe883c3f73"
      },
      "source": [
        "# using complete linkage \n",
        "z=hierarchy.linkage(dist_matrix,'complete')"
      ],
      "execution_count": 14,
      "outputs": [
        {
          "output_type": "stream",
          "text": [
            "/usr/local/lib/python3.6/dist-packages/ipykernel_launcher.py:2: ClusterWarning: scipy.cluster: The symmetric non-negative hollow observation matrix looks suspiciously like an uncondensed distance matrix\n",
            "  \n"
          ],
          "name": "stderr"
        }
      ]
    },
    {
      "cell_type": "code",
      "metadata": {
        "id": "4_0lapgrT5rd",
        "colab_type": "code",
        "colab": {
          "base_uri": "https://localhost:8080/",
          "height": 266
        },
        "outputId": "1dc92b9e-a515-40e3-ae03-41a458c40fcd"
      },
      "source": [
        "# hierarchical clustering is represented by dendrogram\n",
        "dendro=hierarchy.dendrogram(z)"
      ],
      "execution_count": 15,
      "outputs": [
        {
          "output_type": "display_data",
          "data": {
            "image/png": "[encoded data removed]",
            "text/plain": [
              "<Figure size 432x288 with 1 Axes>"
            ]
          },
          "metadata": {
            "tags": [],
            "needs_background": "light"
          }
        }
      ]
    },
    {
      "cell_type": "code",
      "metadata": {
        "id": "oTRwpPX1UNTA",
        "colab_type": "code",
        "colab": {
          "base_uri": "https://localhost:8080/",
          "height": 320
        },
        "outputId": "3b894b3b-be6d-41ea-dbf0-f39b3df5dfb5"
      },
      "source": [
        "# using average linkage\n",
        "z=hierarchy.linkage(dist_matrix,'average')\n",
        "dendro1=hierarchy.dendrogram(z)"
      ],
      "execution_count": 16,
      "outputs": [
        {
          "output_type": "stream",
          "text": [
            "/usr/local/lib/python3.6/dist-packages/ipykernel_launcher.py:2: ClusterWarning: scipy.cluster: The symmetric non-negative hollow observation matrix looks suspiciously like an uncondensed distance matrix\n",
            "  \n"
          ],
          "name": "stderr"
        },
        {
          "output_type": "display_data",
          "data": {
            "image/png": "[encoded data removed]",
            "text/plain": [
              "<Figure size 432x288 with 1 Axes>"
            ]
          },
          "metadata": {
            "tags": [],
            "needs_background": "light"
          }
        }
      ]
    },
    {
      "cell_type": "code",
      "metadata": {
        "id": "G4FBHa2BUq7A",
        "colab_type": "code",
        "colab": {}
      },
      "source": [
        ""
      ],
      "execution_count": null,
      "outputs": []
    }
  ]
}