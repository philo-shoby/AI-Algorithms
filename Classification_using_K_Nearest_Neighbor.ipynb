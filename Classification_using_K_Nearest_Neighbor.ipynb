{
  "nbformat": 4,
  "nbformat_minor": 0,
  "metadata": {
    "colab": {
      "name": "Classification sing K Nearest Neighbor.ipynb",
      "provenance": [],
      "authorship_tag": "ABX9TyMpF3afRGvAedZ8h7Bv17SA"
    },
    "kernelspec": {
      "name": "python3",
      "display_name": "Python 3"
    }
  },
  "cells": [
    {
      "cell_type": "code",
      "metadata": {
        "id": "29TDkiSHFhF2",
        "colab_type": "code",
        "colab": {}
      },
      "source": [
        "import itertools\n",
        "import numpy as np\n",
        "import matplotlib.pyplot as plt\n",
        "from matplotlib.ticker import NullFormatter\n",
        "import pandas as pd\n",
        "import numpy as np\n",
        "import matplotlib.ticker as ticker\n",
        "from sklearn import preprocessing\n",
        "%matplotlib inline"
      ],
      "execution_count": 49,
      "outputs": []
    },
    {
      "cell_type": "code",
      "metadata": {
        "id": "b7BG2KrgFsXf",
        "colab_type": "code",
        "colab": {
          "base_uri": "https://localhost:8080/",
          "height": 224
        },
        "outputId": "f8bf55c8-6190-4119-d2f7-158de9594abc"
      },
      "source": [
        "#download data\n",
        "!wget -O teleCust1000t.csv https://s3-api.us-geo.objectstorage.softlayer.net/cf-courses-data/CognitiveClass/ML0101ENv3/labs/teleCust1000t.csv"
      ],
      "execution_count": 50,
      "outputs": [
        {
          "output_type": "stream",
          "text": [
            "--2020-06-25 17:06:04--  https://s3-api.us-geo.objectstorage.softlayer.net/cf-courses-data/CognitiveClass/ML0101ENv3/labs/teleCust1000t.csv\n",
            "Resolving s3-api.us-geo.objectstorage.softlayer.net (s3-api.us-geo.objectstorage.softlayer.net)... 67.228.254.196\n",
            "Connecting to s3-api.us-geo.objectstorage.softlayer.net (s3-api.us-geo.objectstorage.softlayer.net)|67.228.254.196|:443... connected.\n",
            "HTTP request sent, awaiting response... 200 OK\n",
            "Length: 37048 (36K) [text/csv]\n",
            "Saving to: ‘teleCust1000t.csv’\n",
            "\n",
            "\rteleCust1000t.csv     0%[                    ]       0  --.-KB/s               \rteleCust1000t.csv   100%[===================>]  36.18K  --.-KB/s    in 0.01s   \n",
            "\n",
            "2020-06-25 17:06:04 (2.71 MB/s) - ‘teleCust1000t.csv’ saved [37048/37048]\n",
            "\n"
          ],
          "name": "stdout"
        }
      ]
    },
    {
      "cell_type": "markdown",
      "metadata": {
        "id": "u2lDFdmBH0ZR",
        "colab_type": "text"
      },
      "source": [
        "**Data Exploration**"
      ]
    },
    {
      "cell_type": "code",
      "metadata": {
        "id": "7oXaHMJrHQ3O",
        "colab_type": "code",
        "colab": {
          "base_uri": "https://localhost:8080/",
          "height": 204
        },
        "outputId": "a928ad46-7ba4-4d47-915e-52da3182f958"
      },
      "source": [
        "#obtain the data from csv file\n",
        "data=pd.read_csv('/content/teleCust1000t.csv')\n",
        "data.head()"
      ],
      "execution_count": 51,
      "outputs": [
        {
          "output_type": "execute_result",
          "data": {
            "text/html": [
              "<div>\n",
              "<style scoped>\n",
              "    .dataframe tbody tr th:only-of-type {\n",
              "        vertical-align: middle;\n",
              "    }\n",
              "\n",
              "    .dataframe tbody tr th {\n",
              "        vertical-align: top;\n",
              "    }\n",
              "\n",
              "    .dataframe thead th {\n",
              "        text-align: right;\n",
              "    }\n",
              "</style>\n",
              "<table border=\"1\" class=\"dataframe\">\n",
              "  <thead>\n",
              "    <tr style=\"text-align: right;\">\n",
              "      <th></th>\n",
              "      <th>region</th>\n",
              "      <th>tenure</th>\n",
              "      <th>age</th>\n",
              "      <th>marital</th>\n",
              "      <th>address</th>\n",
              "      <th>income</th>\n",
              "      <th>ed</th>\n",
              "      <th>employ</th>\n",
              "      <th>retire</th>\n",
              "      <th>gender</th>\n",
              "      <th>reside</th>\n",
              "      <th>custcat</th>\n",
              "    </tr>\n",
              "  </thead>\n",
              "  <tbody>\n",
              "    <tr>\n",
              "      <th>0</th>\n",
              "      <td>2</td>\n",
              "      <td>13</td>\n",
              "      <td>44</td>\n",
              "      <td>1</td>\n",
              "      <td>9</td>\n",
              "      <td>64.0</td>\n",
              "      <td>4</td>\n",
              "      <td>5</td>\n",
              "      <td>0.0</td>\n",
              "      <td>0</td>\n",
              "      <td>2</td>\n",
              "      <td>1</td>\n",
              "    </tr>\n",
              "    <tr>\n",
              "      <th>1</th>\n",
              "      <td>3</td>\n",
              "      <td>11</td>\n",
              "      <td>33</td>\n",
              "      <td>1</td>\n",
              "      <td>7</td>\n",
              "      <td>136.0</td>\n",
              "      <td>5</td>\n",
              "      <td>5</td>\n",
              "      <td>0.0</td>\n",
              "      <td>0</td>\n",
              "      <td>6</td>\n",
              "      <td>4</td>\n",
              "    </tr>\n",
              "    <tr>\n",
              "      <th>2</th>\n",
              "      <td>3</td>\n",
              "      <td>68</td>\n",
              "      <td>52</td>\n",
              "      <td>1</td>\n",
              "      <td>24</td>\n",
              "      <td>116.0</td>\n",
              "      <td>1</td>\n",
              "      <td>29</td>\n",
              "      <td>0.0</td>\n",
              "      <td>1</td>\n",
              "      <td>2</td>\n",
              "      <td>3</td>\n",
              "    </tr>\n",
              "    <tr>\n",
              "      <th>3</th>\n",
              "      <td>2</td>\n",
              "      <td>33</td>\n",
              "      <td>33</td>\n",
              "      <td>0</td>\n",
              "      <td>12</td>\n",
              "      <td>33.0</td>\n",
              "      <td>2</td>\n",
              "      <td>0</td>\n",
              "      <td>0.0</td>\n",
              "      <td>1</td>\n",
              "      <td>1</td>\n",
              "      <td>1</td>\n",
              "    </tr>\n",
              "    <tr>\n",
              "      <th>4</th>\n",
              "      <td>2</td>\n",
              "      <td>23</td>\n",
              "      <td>30</td>\n",
              "      <td>1</td>\n",
              "      <td>9</td>\n",
              "      <td>30.0</td>\n",
              "      <td>1</td>\n",
              "      <td>2</td>\n",
              "      <td>0.0</td>\n",
              "      <td>0</td>\n",
              "      <td>4</td>\n",
              "      <td>3</td>\n",
              "    </tr>\n",
              "  </tbody>\n",
              "</table>\n",
              "</div>"
            ],
            "text/plain": [
              "   region  tenure  age  marital  ...  retire  gender  reside  custcat\n",
              "0       2      13   44        1  ...     0.0       0       2        1\n",
              "1       3      11   33        1  ...     0.0       0       6        4\n",
              "2       3      68   52        1  ...     0.0       1       2        3\n",
              "3       2      33   33        0  ...     0.0       1       1        1\n",
              "4       2      23   30        1  ...     0.0       0       4        3\n",
              "\n",
              "[5 rows x 12 columns]"
            ]
          },
          "metadata": {
            "tags": []
          },
          "execution_count": 51
        }
      ]
    },
    {
      "cell_type": "code",
      "metadata": {
        "id": "yPLjNNcEHfPx",
        "colab_type": "code",
        "colab": {
          "base_uri": "https://localhost:8080/",
          "height": 317
        },
        "outputId": "5a2a9df6-f221-47e2-e41c-d2fdafda6314"
      },
      "source": [
        "data.describe()"
      ],
      "execution_count": 52,
      "outputs": [
        {
          "output_type": "execute_result",
          "data": {
            "text/html": [
              "<div>\n",
              "<style scoped>\n",
              "    .dataframe tbody tr th:only-of-type {\n",
              "        vertical-align: middle;\n",
              "    }\n",
              "\n",
              "    .dataframe tbody tr th {\n",
              "        vertical-align: top;\n",
              "    }\n",
              "\n",
              "    .dataframe thead th {\n",
              "        text-align: right;\n",
              "    }\n",
              "</style>\n",
              "<table border=\"1\" class=\"dataframe\">\n",
              "  <thead>\n",
              "    <tr style=\"text-align: right;\">\n",
              "      <th></th>\n",
              "      <th>region</th>\n",
              "      <th>tenure</th>\n",
              "      <th>age</th>\n",
              "      <th>marital</th>\n",
              "      <th>address</th>\n",
              "      <th>income</th>\n",
              "      <th>ed</th>\n",
              "      <th>employ</th>\n",
              "      <th>retire</th>\n",
              "      <th>gender</th>\n",
              "      <th>reside</th>\n",
              "      <th>custcat</th>\n",
              "    </tr>\n",
              "  </thead>\n",
              "  <tbody>\n",
              "    <tr>\n",
              "      <th>count</th>\n",
              "      <td>1000.0000</td>\n",
              "      <td>1000.000000</td>\n",
              "      <td>1000.000000</td>\n",
              "      <td>1000.000000</td>\n",
              "      <td>1000.000000</td>\n",
              "      <td>1000.000000</td>\n",
              "      <td>1000.000000</td>\n",
              "      <td>1000.000000</td>\n",
              "      <td>1000.000000</td>\n",
              "      <td>1000.000000</td>\n",
              "      <td>1000.000000</td>\n",
              "      <td>1000.000000</td>\n",
              "    </tr>\n",
              "    <tr>\n",
              "      <th>mean</th>\n",
              "      <td>2.0220</td>\n",
              "      <td>35.526000</td>\n",
              "      <td>41.684000</td>\n",
              "      <td>0.495000</td>\n",
              "      <td>11.551000</td>\n",
              "      <td>77.535000</td>\n",
              "      <td>2.671000</td>\n",
              "      <td>10.987000</td>\n",
              "      <td>0.047000</td>\n",
              "      <td>0.517000</td>\n",
              "      <td>2.331000</td>\n",
              "      <td>2.487000</td>\n",
              "    </tr>\n",
              "    <tr>\n",
              "      <th>std</th>\n",
              "      <td>0.8162</td>\n",
              "      <td>21.359812</td>\n",
              "      <td>12.558816</td>\n",
              "      <td>0.500225</td>\n",
              "      <td>10.086681</td>\n",
              "      <td>107.044165</td>\n",
              "      <td>1.222397</td>\n",
              "      <td>10.082087</td>\n",
              "      <td>0.211745</td>\n",
              "      <td>0.499961</td>\n",
              "      <td>1.435793</td>\n",
              "      <td>1.120306</td>\n",
              "    </tr>\n",
              "    <tr>\n",
              "      <th>min</th>\n",
              "      <td>1.0000</td>\n",
              "      <td>1.000000</td>\n",
              "      <td>18.000000</td>\n",
              "      <td>0.000000</td>\n",
              "      <td>0.000000</td>\n",
              "      <td>9.000000</td>\n",
              "      <td>1.000000</td>\n",
              "      <td>0.000000</td>\n",
              "      <td>0.000000</td>\n",
              "      <td>0.000000</td>\n",
              "      <td>1.000000</td>\n",
              "      <td>1.000000</td>\n",
              "    </tr>\n",
              "    <tr>\n",
              "      <th>25%</th>\n",
              "      <td>1.0000</td>\n",
              "      <td>17.000000</td>\n",
              "      <td>32.000000</td>\n",
              "      <td>0.000000</td>\n",
              "      <td>3.000000</td>\n",
              "      <td>29.000000</td>\n",
              "      <td>2.000000</td>\n",
              "      <td>3.000000</td>\n",
              "      <td>0.000000</td>\n",
              "      <td>0.000000</td>\n",
              "      <td>1.000000</td>\n",
              "      <td>1.000000</td>\n",
              "    </tr>\n",
              "    <tr>\n",
              "      <th>50%</th>\n",
              "      <td>2.0000</td>\n",
              "      <td>34.000000</td>\n",
              "      <td>40.000000</td>\n",
              "      <td>0.000000</td>\n",
              "      <td>9.000000</td>\n",
              "      <td>47.000000</td>\n",
              "      <td>3.000000</td>\n",
              "      <td>8.000000</td>\n",
              "      <td>0.000000</td>\n",
              "      <td>1.000000</td>\n",
              "      <td>2.000000</td>\n",
              "      <td>3.000000</td>\n",
              "    </tr>\n",
              "    <tr>\n",
              "      <th>75%</th>\n",
              "      <td>3.0000</td>\n",
              "      <td>54.000000</td>\n",
              "      <td>51.000000</td>\n",
              "      <td>1.000000</td>\n",
              "      <td>18.000000</td>\n",
              "      <td>83.000000</td>\n",
              "      <td>4.000000</td>\n",
              "      <td>17.000000</td>\n",
              "      <td>0.000000</td>\n",
              "      <td>1.000000</td>\n",
              "      <td>3.000000</td>\n",
              "      <td>3.000000</td>\n",
              "    </tr>\n",
              "    <tr>\n",
              "      <th>max</th>\n",
              "      <td>3.0000</td>\n",
              "      <td>72.000000</td>\n",
              "      <td>77.000000</td>\n",
              "      <td>1.000000</td>\n",
              "      <td>55.000000</td>\n",
              "      <td>1668.000000</td>\n",
              "      <td>5.000000</td>\n",
              "      <td>47.000000</td>\n",
              "      <td>1.000000</td>\n",
              "      <td>1.000000</td>\n",
              "      <td>8.000000</td>\n",
              "      <td>4.000000</td>\n",
              "    </tr>\n",
              "  </tbody>\n",
              "</table>\n",
              "</div>"
            ],
            "text/plain": [
              "          region       tenure  ...       reside      custcat\n",
              "count  1000.0000  1000.000000  ...  1000.000000  1000.000000\n",
              "mean      2.0220    35.526000  ...     2.331000     2.487000\n",
              "std       0.8162    21.359812  ...     1.435793     1.120306\n",
              "min       1.0000     1.000000  ...     1.000000     1.000000\n",
              "25%       1.0000    17.000000  ...     1.000000     1.000000\n",
              "50%       2.0000    34.000000  ...     2.000000     3.000000\n",
              "75%       3.0000    54.000000  ...     3.000000     3.000000\n",
              "max       3.0000    72.000000  ...     8.000000     4.000000\n",
              "\n",
              "[8 rows x 12 columns]"
            ]
          },
          "metadata": {
            "tags": []
          },
          "execution_count": 52
        }
      ]
    },
    {
      "cell_type": "code",
      "metadata": {
        "id": "L9C9eccCH6fJ",
        "colab_type": "code",
        "colab": {
          "base_uri": "https://localhost:8080/",
          "height": 34
        },
        "outputId": "131ba00e-4e06-4ae3-c62c-007257d83bd2"
      },
      "source": [
        "data.shape"
      ],
      "execution_count": 53,
      "outputs": [
        {
          "output_type": "execute_result",
          "data": {
            "text/plain": [
              "(1000, 12)"
            ]
          },
          "metadata": {
            "tags": []
          },
          "execution_count": 53
        }
      ]
    },
    {
      "cell_type": "code",
      "metadata": {
        "id": "OjjS0zT9IQZq",
        "colab_type": "code",
        "colab": {
          "base_uri": "https://localhost:8080/",
          "height": 238
        },
        "outputId": "40d51268-d747-4c2e-eed1-f139445d1e19"
      },
      "source": [
        "data.isna().sum()"
      ],
      "execution_count": 54,
      "outputs": [
        {
          "output_type": "execute_result",
          "data": {
            "text/plain": [
              "region     0\n",
              "tenure     0\n",
              "age        0\n",
              "marital    0\n",
              "address    0\n",
              "income     0\n",
              "ed         0\n",
              "employ     0\n",
              "retire     0\n",
              "gender     0\n",
              "reside     0\n",
              "custcat    0\n",
              "dtype: int64"
            ]
          },
          "metadata": {
            "tags": []
          },
          "execution_count": 54
        }
      ]
    },
    {
      "cell_type": "code",
      "metadata": {
        "id": "RipSvmLAIYjN",
        "colab_type": "code",
        "colab": {
          "base_uri": "https://localhost:8080/",
          "height": 119
        },
        "outputId": "0526e382-26c9-4e75-9a8f-f01c136940ce"
      },
      "source": [
        "data.groupby('custcat').size()"
      ],
      "execution_count": 55,
      "outputs": [
        {
          "output_type": "execute_result",
          "data": {
            "text/plain": [
              "custcat\n",
              "1    266\n",
              "2    217\n",
              "3    281\n",
              "4    236\n",
              "dtype: int64"
            ]
          },
          "metadata": {
            "tags": []
          },
          "execution_count": 55
        }
      ]
    },
    {
      "cell_type": "markdown",
      "metadata": {
        "id": "eQHVHjnkJKxi",
        "colab_type": "text"
      },
      "source": [
        "**Data Visualisation**"
      ]
    },
    {
      "cell_type": "code",
      "metadata": {
        "id": "c1bUkvhsI2nk",
        "colab_type": "code",
        "colab": {
          "base_uri": "https://localhost:8080/",
          "height": 315
        },
        "outputId": "5c266a58-495a-4eef-8bd6-489ec40c7db9"
      },
      "source": [
        "data.hist(column='income',bins=50)"
      ],
      "execution_count": 56,
      "outputs": [
        {
          "output_type": "execute_result",
          "data": {
            "text/plain": [
              "array([[<matplotlib.axes._subplots.AxesSubplot object at 0x7fcd2db0ff98>]],\n",
              "      dtype=object)"
            ]
          },
          "metadata": {
            "tags": []
          },
          "execution_count": 56
        },
        {
          "output_type": "display_data",
          "data": {
            "image/png": "[encoded data removed]",
            "text/plain": [
              "<Figure size 432x288 with 1 Axes>"
            ]
          },
          "metadata": {
            "tags": [],
            "needs_background": "light"
          }
        }
      ]
    },
    {
      "cell_type": "code",
      "metadata": {
        "id": "ZfcyFBVRJcJ1",
        "colab_type": "code",
        "colab": {
          "base_uri": "https://localhost:8080/",
          "height": 502
        },
        "outputId": "be22ebdf-50a4-4856-dd9f-6904bf41e52d"
      },
      "source": [
        "data.hist()"
      ],
      "execution_count": 57,
      "outputs": [
        {
          "output_type": "execute_result",
          "data": {
            "text/plain": [
              "array([[<matplotlib.axes._subplots.AxesSubplot object at 0x7fcd2a403cf8>,\n",
              "        <matplotlib.axes._subplots.AxesSubplot object at 0x7fcd2a3b52b0>,\n",
              "        <matplotlib.axes._subplots.AxesSubplot object at 0x7fcd2a368518>],\n",
              "       [<matplotlib.axes._subplots.AxesSubplot object at 0x7fcd2a39b780>,\n",
              "        <matplotlib.axes._subplots.AxesSubplot object at 0x7fcd2a3509e8>,\n",
              "        <matplotlib.axes._subplots.AxesSubplot object at 0x7fcd2a304c50>],\n",
              "       [<matplotlib.axes._subplots.AxesSubplot object at 0x7fcd2a2b8eb8>,\n",
              "        <matplotlib.axes._subplots.AxesSubplot object at 0x7fcd2a278128>,\n",
              "        <matplotlib.axes._subplots.AxesSubplot object at 0x7fcd2a278198>],\n",
              "       [<matplotlib.axes._subplots.AxesSubplot object at 0x7fcd2a1e0630>,\n",
              "        <matplotlib.axes._subplots.AxesSubplot object at 0x7fcd2a214898>,\n",
              "        <matplotlib.axes._subplots.AxesSubplot object at 0x7fcd2a1c9b00>]],\n",
              "      dtype=object)"
            ]
          },
          "metadata": {
            "tags": []
          },
          "execution_count": 57
        },
        {
          "output_type": "display_data",
          "data": {
            "image/png": "[encoded data removed]",
            "text/plain": [
              "<Figure size 432x288 with 12 Axes>"
            ]
          },
          "metadata": {
            "tags": [],
            "needs_background": "light"
          }
        }
      ]
    },
    {
      "cell_type": "markdown",
      "metadata": {
        "id": "_gsMVaqzKEav",
        "colab_type": "text"
      },
      "source": [
        "**Feature Set**"
      ]
    },
    {
      "cell_type": "code",
      "metadata": {
        "id": "8Qozo6ThJvze",
        "colab_type": "code",
        "colab": {
          "base_uri": "https://localhost:8080/",
          "height": 68
        },
        "outputId": "291b40ad-4ff7-4ac1-bc18-5661bf370035"
      },
      "source": [
        "data.columns"
      ],
      "execution_count": 58,
      "outputs": [
        {
          "output_type": "execute_result",
          "data": {
            "text/plain": [
              "Index(['region', 'tenure', 'age', 'marital', 'address', 'income', 'ed',\n",
              "       'employ', 'retire', 'gender', 'reside', 'custcat'],\n",
              "      dtype='object')"
            ]
          },
          "metadata": {
            "tags": []
          },
          "execution_count": 58
        }
      ]
    },
    {
      "cell_type": "code",
      "metadata": {
        "id": "g_lrFkkEKYwS",
        "colab_type": "code",
        "colab": {
          "base_uri": "https://localhost:8080/",
          "height": 419
        },
        "outputId": "cdacb542-b6e1-4bd2-ce01-296656597738"
      },
      "source": [
        "x=data.iloc[:, :11].astype('float32')\n",
        "x"
      ],
      "execution_count": 59,
      "outputs": [
        {
          "output_type": "execute_result",
          "data": {
            "text/html": [
              "<div>\n",
              "<style scoped>\n",
              "    .dataframe tbody tr th:only-of-type {\n",
              "        vertical-align: middle;\n",
              "    }\n",
              "\n",
              "    .dataframe tbody tr th {\n",
              "        vertical-align: top;\n",
              "    }\n",
              "\n",
              "    .dataframe thead th {\n",
              "        text-align: right;\n",
              "    }\n",
              "</style>\n",
              "<table border=\"1\" class=\"dataframe\">\n",
              "  <thead>\n",
              "    <tr style=\"text-align: right;\">\n",
              "      <th></th>\n",
              "      <th>region</th>\n",
              "      <th>tenure</th>\n",
              "      <th>age</th>\n",
              "      <th>marital</th>\n",
              "      <th>address</th>\n",
              "      <th>income</th>\n",
              "      <th>ed</th>\n",
              "      <th>employ</th>\n",
              "      <th>retire</th>\n",
              "      <th>gender</th>\n",
              "      <th>reside</th>\n",
              "    </tr>\n",
              "  </thead>\n",
              "  <tbody>\n",
              "    <tr>\n",
              "      <th>0</th>\n",
              "      <td>2.0</td>\n",
              "      <td>13.0</td>\n",
              "      <td>44.0</td>\n",
              "      <td>1.0</td>\n",
              "      <td>9.0</td>\n",
              "      <td>64.0</td>\n",
              "      <td>4.0</td>\n",
              "      <td>5.0</td>\n",
              "      <td>0.0</td>\n",
              "      <td>0.0</td>\n",
              "      <td>2.0</td>\n",
              "    </tr>\n",
              "    <tr>\n",
              "      <th>1</th>\n",
              "      <td>3.0</td>\n",
              "      <td>11.0</td>\n",
              "      <td>33.0</td>\n",
              "      <td>1.0</td>\n",
              "      <td>7.0</td>\n",
              "      <td>136.0</td>\n",
              "      <td>5.0</td>\n",
              "      <td>5.0</td>\n",
              "      <td>0.0</td>\n",
              "      <td>0.0</td>\n",
              "      <td>6.0</td>\n",
              "    </tr>\n",
              "    <tr>\n",
              "      <th>2</th>\n",
              "      <td>3.0</td>\n",
              "      <td>68.0</td>\n",
              "      <td>52.0</td>\n",
              "      <td>1.0</td>\n",
              "      <td>24.0</td>\n",
              "      <td>116.0</td>\n",
              "      <td>1.0</td>\n",
              "      <td>29.0</td>\n",
              "      <td>0.0</td>\n",
              "      <td>1.0</td>\n",
              "      <td>2.0</td>\n",
              "    </tr>\n",
              "    <tr>\n",
              "      <th>3</th>\n",
              "      <td>2.0</td>\n",
              "      <td>33.0</td>\n",
              "      <td>33.0</td>\n",
              "      <td>0.0</td>\n",
              "      <td>12.0</td>\n",
              "      <td>33.0</td>\n",
              "      <td>2.0</td>\n",
              "      <td>0.0</td>\n",
              "      <td>0.0</td>\n",
              "      <td>1.0</td>\n",
              "      <td>1.0</td>\n",
              "    </tr>\n",
              "    <tr>\n",
              "      <th>4</th>\n",
              "      <td>2.0</td>\n",
              "      <td>23.0</td>\n",
              "      <td>30.0</td>\n",
              "      <td>1.0</td>\n",
              "      <td>9.0</td>\n",
              "      <td>30.0</td>\n",
              "      <td>1.0</td>\n",
              "      <td>2.0</td>\n",
              "      <td>0.0</td>\n",
              "      <td>0.0</td>\n",
              "      <td>4.0</td>\n",
              "    </tr>\n",
              "    <tr>\n",
              "      <th>...</th>\n",
              "      <td>...</td>\n",
              "      <td>...</td>\n",
              "      <td>...</td>\n",
              "      <td>...</td>\n",
              "      <td>...</td>\n",
              "      <td>...</td>\n",
              "      <td>...</td>\n",
              "      <td>...</td>\n",
              "      <td>...</td>\n",
              "      <td>...</td>\n",
              "      <td>...</td>\n",
              "    </tr>\n",
              "    <tr>\n",
              "      <th>995</th>\n",
              "      <td>3.0</td>\n",
              "      <td>10.0</td>\n",
              "      <td>39.0</td>\n",
              "      <td>0.0</td>\n",
              "      <td>0.0</td>\n",
              "      <td>27.0</td>\n",
              "      <td>3.0</td>\n",
              "      <td>0.0</td>\n",
              "      <td>0.0</td>\n",
              "      <td>1.0</td>\n",
              "      <td>3.0</td>\n",
              "    </tr>\n",
              "    <tr>\n",
              "      <th>996</th>\n",
              "      <td>1.0</td>\n",
              "      <td>7.0</td>\n",
              "      <td>34.0</td>\n",
              "      <td>0.0</td>\n",
              "      <td>2.0</td>\n",
              "      <td>22.0</td>\n",
              "      <td>5.0</td>\n",
              "      <td>5.0</td>\n",
              "      <td>0.0</td>\n",
              "      <td>1.0</td>\n",
              "      <td>1.0</td>\n",
              "    </tr>\n",
              "    <tr>\n",
              "      <th>997</th>\n",
              "      <td>3.0</td>\n",
              "      <td>67.0</td>\n",
              "      <td>59.0</td>\n",
              "      <td>0.0</td>\n",
              "      <td>40.0</td>\n",
              "      <td>944.0</td>\n",
              "      <td>5.0</td>\n",
              "      <td>33.0</td>\n",
              "      <td>0.0</td>\n",
              "      <td>1.0</td>\n",
              "      <td>1.0</td>\n",
              "    </tr>\n",
              "    <tr>\n",
              "      <th>998</th>\n",
              "      <td>3.0</td>\n",
              "      <td>70.0</td>\n",
              "      <td>49.0</td>\n",
              "      <td>0.0</td>\n",
              "      <td>18.0</td>\n",
              "      <td>87.0</td>\n",
              "      <td>2.0</td>\n",
              "      <td>22.0</td>\n",
              "      <td>0.0</td>\n",
              "      <td>1.0</td>\n",
              "      <td>1.0</td>\n",
              "    </tr>\n",
              "    <tr>\n",
              "      <th>999</th>\n",
              "      <td>3.0</td>\n",
              "      <td>50.0</td>\n",
              "      <td>36.0</td>\n",
              "      <td>1.0</td>\n",
              "      <td>7.0</td>\n",
              "      <td>39.0</td>\n",
              "      <td>3.0</td>\n",
              "      <td>3.0</td>\n",
              "      <td>0.0</td>\n",
              "      <td>1.0</td>\n",
              "      <td>3.0</td>\n",
              "    </tr>\n",
              "  </tbody>\n",
              "</table>\n",
              "<p>1000 rows × 11 columns</p>\n",
              "</div>"
            ],
            "text/plain": [
              "     region  tenure   age  marital  ...  employ  retire  gender  reside\n",
              "0       2.0    13.0  44.0      1.0  ...     5.0     0.0     0.0     2.0\n",
              "1       3.0    11.0  33.0      1.0  ...     5.0     0.0     0.0     6.0\n",
              "2       3.0    68.0  52.0      1.0  ...    29.0     0.0     1.0     2.0\n",
              "3       2.0    33.0  33.0      0.0  ...     0.0     0.0     1.0     1.0\n",
              "4       2.0    23.0  30.0      1.0  ...     2.0     0.0     0.0     4.0\n",
              "..      ...     ...   ...      ...  ...     ...     ...     ...     ...\n",
              "995     3.0    10.0  39.0      0.0  ...     0.0     0.0     1.0     3.0\n",
              "996     1.0     7.0  34.0      0.0  ...     5.0     0.0     1.0     1.0\n",
              "997     3.0    67.0  59.0      0.0  ...    33.0     0.0     1.0     1.0\n",
              "998     3.0    70.0  49.0      0.0  ...    22.0     0.0     1.0     1.0\n",
              "999     3.0    50.0  36.0      1.0  ...     3.0     0.0     1.0     3.0\n",
              "\n",
              "[1000 rows x 11 columns]"
            ]
          },
          "metadata": {
            "tags": []
          },
          "execution_count": 59
        }
      ]
    },
    {
      "cell_type": "code",
      "metadata": {
        "id": "15WS7SdlKe-T",
        "colab_type": "code",
        "colab": {
          "base_uri": "https://localhost:8080/",
          "height": 221
        },
        "outputId": "5f775a09-351c-490b-d8dd-954e1409920d"
      },
      "source": [
        "y=data.iloc[:, 11].astype('float32')\n",
        "y"
      ],
      "execution_count": 34,
      "outputs": [
        {
          "output_type": "execute_result",
          "data": {
            "text/plain": [
              "0      1.0\n",
              "1      4.0\n",
              "2      3.0\n",
              "3      1.0\n",
              "4      3.0\n",
              "      ... \n",
              "995    1.0\n",
              "996    1.0\n",
              "997    4.0\n",
              "998    3.0\n",
              "999    2.0\n",
              "Name: custcat, Length: 1000, dtype: float32"
            ]
          },
          "metadata": {
            "tags": []
          },
          "execution_count": 34
        }
      ]
    },
    {
      "cell_type": "markdown",
      "metadata": {
        "id": "yvw7C7hJLqpw",
        "colab_type": "text"
      },
      "source": [
        "**Normalisation**"
      ]
    },
    {
      "cell_type": "code",
      "metadata": {
        "id": "tulZUPK2LO4L",
        "colab_type": "code",
        "colab": {
          "base_uri": "https://localhost:8080/",
          "height": 272
        },
        "outputId": "7d20b5c9-ea35-479a-fa17-be85ad6ff043"
      },
      "source": [
        "x=preprocessing.StandardScaler().fit(x).transform(x.astype(float))\n",
        "x[0:5]"
      ],
      "execution_count": 38,
      "outputs": [
        {
          "output_type": "execute_result",
          "data": {
            "text/plain": [
              "array([[-0.02696767, -1.05512499,  0.18450456,  1.0100505 , -0.25303431,\n",
              "        -0.12650641,  1.0877526 , -0.59412259, -0.22207643, -1.03459815,\n",
              "        -0.23065004],\n",
              "       [ 1.19883557, -1.14880563, -0.69181243,  1.0100505 , -0.4514148 ,\n",
              "         0.54644973,  1.90622709, -0.59412259, -0.22207643, -1.03459815,\n",
              "         2.55666162],\n",
              "       [ 1.19883557,  1.52109247,  0.821826  ,  1.0100505 ,  1.23481935,\n",
              "         0.35951747, -1.36767088,  1.787528  , -0.22207643,  0.96655882,\n",
              "        -0.23065004],\n",
              "       [-0.02696767, -0.11831864, -0.69181243, -0.9900495 ,  0.04453642,\n",
              "        -0.41625141, -0.54919638, -1.09029979, -0.22207643,  0.96655882,\n",
              "        -0.92747796],\n",
              "       [-0.02696767, -0.58672182, -0.93080797,  1.0100505 , -0.25303431,\n",
              "        -0.44429125, -1.36767088, -0.89182891, -0.22207643, -1.03459815,\n",
              "         1.16300579]])"
            ]
          },
          "metadata": {
            "tags": []
          },
          "execution_count": 38
        }
      ]
    },
    {
      "cell_type": "code",
      "metadata": {
        "id": "ceZkw7QQMLl9",
        "colab_type": "code",
        "colab": {
          "base_uri": "https://localhost:8080/",
          "height": 34
        },
        "outputId": "299bd651-3239-4cd6-f7b4-b628c29c82b5"
      },
      "source": [
        "from sklearn.model_selection import train_test_split\n",
        "xtrain,xtest,ytrain,ytest=train_test_split(x,y,test_size=0.2,random_state=4)\n",
        "xtrain.shape"
      ],
      "execution_count": 46,
      "outputs": [
        {
          "output_type": "execute_result",
          "data": {
            "text/plain": [
              "(800, 11)"
            ]
          },
          "metadata": {
            "tags": []
          },
          "execution_count": 46
        }
      ]
    },
    {
      "cell_type": "code",
      "metadata": {
        "id": "OYo7HxzdM7hf",
        "colab_type": "code",
        "colab": {
          "base_uri": "https://localhost:8080/",
          "height": 476
        },
        "outputId": "05ab013e-98fe-4bc9-89a9-bfa3232a388f"
      },
      "source": [
        "from sklearn.neighbors import KNeighborsClassifier\n",
        "from sklearn.metrics import accuracy_score\n",
        "mean_acc=[]\n",
        "for k in range(1,10):\n",
        "  model= KNeighborsClassifier(n_neighbors = k).fit(xtrain,ytrain)\n",
        "  ypred=model.predict(xtest)\n",
        "  print('---')\n",
        "  print(\"Train accuracy: \",accuracy_score(ytrain,model.predict(xtrain)))\n",
        "  print(\"Test accuracy: \",accuracy_score(ytest,ypred))\n",
        "  mean_acc.append(accuracy_score(ytest,ypred))"
      ],
      "execution_count": 48,
      "outputs": [
        {
          "output_type": "stream",
          "text": [
            "---\n",
            "Train accuracy:  1.0\n",
            "Test accuracy:  0.3\n",
            "---\n",
            "Train accuracy:  0.6175\n",
            "Test accuracy:  0.29\n",
            "---\n",
            "Train accuracy:  0.56875\n",
            "Test accuracy:  0.315\n",
            "---\n",
            "Train accuracy:  0.5475\n",
            "Test accuracy:  0.32\n",
            "---\n",
            "Train accuracy:  0.5375\n",
            "Test accuracy:  0.315\n",
            "---\n",
            "Train accuracy:  0.51625\n",
            "Test accuracy:  0.31\n",
            "---\n",
            "Train accuracy:  0.5125\n",
            "Test accuracy:  0.335\n",
            "---\n",
            "Train accuracy:  0.4925\n",
            "Test accuracy:  0.325\n",
            "---\n",
            "Train accuracy:  0.5025\n",
            "Test accuracy:  0.34\n"
          ],
          "name": "stdout"
        }
      ]
    }
  ]
}