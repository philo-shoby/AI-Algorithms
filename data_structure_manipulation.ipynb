{
  "nbformat": 4,
  "nbformat_minor": 0,
  "metadata": {
    "colab": {
      "name": "data structure manipulation.ipynb",
      "provenance": [],
      "authorship_tag": "ABX9TyNvHSsIrkKwW7qaZyXdD6dT"
    },
    "kernelspec": {
      "name": "python3",
      "display_name": "Python 3"
    }
  },
  "cells": [
    {
      "cell_type": "code",
      "metadata": {
        "id": "5QbxgU6HpBPp",
        "colab_type": "code",
        "colab": {}
      },
      "source": [
        "#1. Assigning elements to different lists\n",
        "lst=[] #creating empty list\n",
        "lst1=[]\n",
        "lst.append(3) #assigning elements to list lst using 'append'\n",
        "lst1.append('$') #assigning elements to list lst1 using 'append'"
      ],
      "execution_count": 0,
      "outputs": []
    },
    {
      "cell_type": "code",
      "metadata": {
        "id": "xldOlp7fpkYX",
        "colab_type": "code",
        "colab": {
          "base_uri": "https://localhost:8080/",
          "height": 34
        },
        "outputId": "bc4040f0-ac4e-48ed-8bbc-05d236764089"
      },
      "source": [
        "lst"
      ],
      "execution_count": 2,
      "outputs": [
        {
          "output_type": "execute_result",
          "data": {
            "text/plain": [
              "[3]"
            ]
          },
          "metadata": {
            "tags": []
          },
          "execution_count": 2
        }
      ]
    },
    {
      "cell_type": "code",
      "metadata": {
        "id": "vv1HCHjRpqd2",
        "colab_type": "code",
        "colab": {
          "base_uri": "https://localhost:8080/",
          "height": 34
        },
        "outputId": "595e3cd4-1ca3-4ae6-a12f-650660822433"
      },
      "source": [
        "lst1"
      ],
      "execution_count": 3,
      "outputs": [
        {
          "output_type": "execute_result",
          "data": {
            "text/plain": [
              "['$']"
            ]
          },
          "metadata": {
            "tags": []
          },
          "execution_count": 3
        }
      ]
    },
    {
      "cell_type": "code",
      "metadata": {
        "id": "P1LQCZ4FprWu",
        "colab_type": "code",
        "colab": {
          "base_uri": "https://localhost:8080/",
          "height": 34
        },
        "outputId": "150db65a-ab05-4136-8e74-8c1e641e6820"
      },
      "source": [
        "#2. Accessing elements from a tuple\n",
        "tup=(lst) #converting the lst to tuple\n",
        "tup"
      ],
      "execution_count": 4,
      "outputs": [
        {
          "output_type": "execute_result",
          "data": {
            "text/plain": [
              "[3]"
            ]
          },
          "metadata": {
            "tags": []
          },
          "execution_count": 4
        }
      ]
    },
    {
      "cell_type": "code",
      "metadata": {
        "id": "WA32aKJQp-Yy",
        "colab_type": "code",
        "colab": {
          "base_uri": "https://localhost:8080/",
          "height": 34
        },
        "outputId": "3015809f-6b2d-479b-9a87-1a256b90f5f8"
      },
      "source": [
        "#3. Deleting different dictionary elements\n",
        "dict={}\n",
        "for i in range(3):\n",
        "    dict[i]=i+10     #adding key and value to dictionary dict\n",
        "dict"
      ],
      "execution_count": 6,
      "outputs": [
        {
          "output_type": "execute_result",
          "data": {
            "text/plain": [
              "{0: 10, 1: 11, 2: 12}"
            ]
          },
          "metadata": {
            "tags": []
          },
          "execution_count": 6
        }
      ]
    },
    {
      "cell_type": "code",
      "metadata": {
        "id": "z0LQmg2fqJ6p",
        "colab_type": "code",
        "colab": {
          "base_uri": "https://localhost:8080/",
          "height": 34
        },
        "outputId": "1477b98c-d007-4f55-fc89-d0298199e33a"
      },
      "source": [
        "del(dict[1])  #deleting diferent elements from dictionary using key\n",
        "del(dict[0])\n",
        "dict"
      ],
      "execution_count": 7,
      "outputs": [
        {
          "output_type": "execute_result",
          "data": {
            "text/plain": [
              "{2: 12}"
            ]
          },
          "metadata": {
            "tags": []
          },
          "execution_count": 7
        }
      ]
    },
    {
      "cell_type": "code",
      "metadata": {
        "id": "X5mTxXp6qdK9",
        "colab_type": "code",
        "colab": {}
      },
      "source": [
        ""
      ],
      "execution_count": 0,
      "outputs": []
    }
  ]
}